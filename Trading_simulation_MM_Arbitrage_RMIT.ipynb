{
  "cells": [
    {
      "cell_type": "code",
      "execution_count": null,
      "metadata": {
        "id": "rU0OF6b5MbjQ"
      },
      "outputs": [],
      "source": [
        "!pip install streamlit"
      ]
    },
    {
      "cell_type": "markdown",
      "metadata": {
        "id": "Vd5zAiNAtmkP"
      },
      "source": [
        "# **Section 1: Real-Time Bid/Ask Data Fetcher (OANDA API)**"
      ]
    },
    {
      "cell_type": "code",
      "execution_count": 27,
      "metadata": {
        "id": "swO_CRndoh-3"
      },
      "outputs": [],
      "source": [
        "import requests\n",
        "import pandas as pd\n",
        "from typing import Union, List\n",
        "\n",
        "# OANDA API credentials\n",
        "ACCESS_TOKEN = \"INSERT_OANDA_ACCESS_TOKEN\"\n",
        "ACCOUNT_ID   = \"INSERT_OANDA_ACCOUNT_ID\"\n",
        "OANDA_API_URL = \"https://api-fxpractice.oanda.com/v3\"\n",
        "HEADERS = {\"Authorization\": f\"Bearer {ACCESS_TOKEN}\"}"
      ]
    },
    {
      "cell_type": "markdown",
      "metadata": {
        "id": "me1blMsht3J8"
      },
      "source": [
        "**Function: get_oanda_bid_ask()**"
      ]
    },
    {
      "cell_type": "code",
      "execution_count": 5,
      "metadata": {
        "id": "oTqrdHPvtwHv"
      },
      "outputs": [],
      "source": [
        "def get_oanda_bid_ask(pairs: Union[str, List[str]]) -> pd.DataFrame:\n",
        "    pairs = [pairs] if isinstance(pairs, str) else pairs\n",
        "    valid_symbols = {\"AUD_USD\", \"EUR_USD\", \"USD_JPY\", \"GBP_USD\", \"EUR_JPY\"}\n",
        "    pairs = [p for p in pairs if p in valid_symbols]\n",
        "    if not pairs:\n",
        "        return pd.DataFrame()\n",
        "\n",
        "    try:\n",
        "        response = requests.get(\n",
        "            f\"{OANDA_API_URL}/accounts/{ACCOUNT_ID}/pricing\",\n",
        "            headers=HEADERS,\n",
        "            params={\"instruments\": \",\".join(pairs)}\n",
        "        )\n",
        "        response.raise_for_status()\n",
        "        data = response.json()\n",
        "\n",
        "        return pd.DataFrame([\n",
        "            {\n",
        "                \"Pair\": quote[\"instrument\"].replace(\"_\", \"/\"),\n",
        "                \"Bid\": round(float(quote[\"bids\"][0][\"price\"]), 6),\n",
        "                \"Ask\": round(float(quote[\"asks\"][0][\"price\"]), 6)\n",
        "            }\n",
        "            for quote in data.get(\"prices\", [])\n",
        "        ])\n",
        "\n",
        "    except requests.exceptions.RequestException as e:\n",
        "        print(f\"Request error: {e}\")\n",
        "        return pd.DataFrame()\n"
      ]
    },
    {
      "cell_type": "code",
      "execution_count": 6,
      "metadata": {
        "id": "OPMZyrF72Ew1"
      },
      "outputs": [],
      "source": [
        "def compute_cross_rate(df, base_pair: str, quote_pair: str, cross_name: str) -> pd.DataFrame:\n",
        "    base = df[df[\"Pair\"] == base_pair]\n",
        "    quote = df[df[\"Pair\"] == quote_pair]\n",
        "\n",
        "    if base.empty or quote.empty:\n",
        "        print(f\"Missing pair(s): {base_pair}, {quote_pair}\")\n",
        "        return df\n",
        "\n",
        "    cross_bid = base[\"Bid\"].values[0] / quote[\"Ask\"].values[0]\n",
        "    cross_ask = base[\"Ask\"].values[0] / quote[\"Bid\"].values[0]\n",
        "\n",
        "    new_row = pd.DataFrame([{\n",
        "        \"Pair\": cross_name,\n",
        "        \"Bid\": round(cross_bid, 6),\n",
        "        \"Ask\": round(cross_ask, 6)\n",
        "    }])\n",
        "\n",
        "    return pd.concat([df, new_row], ignore_index=True)"
      ]
    },
    {
      "cell_type": "markdown",
      "metadata": {
        "id": "dFOGo2wcxTi-"
      },
      "source": [
        "# **Section 2.A – System Parameters**"
      ]
    },
    {
      "cell_type": "markdown",
      "metadata": {
        "id": "ly_dIOUK8Q2A"
      },
      "source": [
        "**POSITIONAL_BIAS**\n",
        "\n",
        "This dictionary sets the strategic inventory bias:\n",
        "\n",
        "Bias\tEffect on Quotes\n",
        "- long\tTighter bid, wider ask – encourages buying.\n",
        "- short\tWider bid, tighter ask – encourages selling.\n",
        "- neutral\tSymmetric spread around mid-price.\n",
        "\n",
        "It guides how the spread is skewed depending on inventory or market view.\n",
        "\n",
        "**Market Maker Style Definitions**\n",
        "\n",
        "The MAKER_STYLE parameter controls the quoting behavior of the FX maker, affecting the width of the bid-ask spread. The spread adjustment is applied to the base spread (defined in TRADE_PARAMS) to derive the final maker quote. Each style reflects a different level of quote aggressiveness:\n",
        "\n",
        "\n",
        "| Style              | Description                                                                                                         | Spread Adjustment Multiplier |\n",
        "| ------------------ | ------------------------------------------------------------------------------------------------------------------- | ---------------------------- |\n",
        "| `super_aggressive` | Quotes extremely tight spreads to always be at top-of-book, maximizing fills but increasing adverse selection risk. | `0.25 × base spread`         |\n",
        "| `ultra_aggressive` | Still very competitive, close to market with slightly more risk moderation.                                         | `0.4 × base spread`          |\n",
        "| `aggressive`       | Default aggressive quoting behavior, aiming to be competitive.                                                      | `0.5 × base spread`          |\n",
        "| `neutral`          | No adjustment; uses the base spread as-is.                                                                          | `1.0 × base spread`          |\n",
        "| `defensive`        | Widens quotes to reduce fill probability, suitable for cautious risk stance.                                        | `1.5 × base spread`          |\n"
      ]
    },
    {
      "cell_type": "code",
      "execution_count": 8,
      "metadata": {
        "id": "5PAYEk_AxW3p"
      },
      "outputs": [],
      "source": [
        "TRADE_PARAMS = {\n",
        "    \"AUD/USD\": {\n",
        "        \"max_spread_bps\": 20,\n",
        "        \"pip_size\": 0.0001,\n",
        "        \"min_size\": 5_000_000,\n",
        "        \"max_size\": 20_000_000\n",
        "    },\n",
        "    \"AUD/EUR\": {\n",
        "        \"max_spread_bps\": 20,\n",
        "        \"pip_size\": 0.0001,\n",
        "        \"min_size\": 5_000_000,\n",
        "        \"max_size\": 20_000_000\n",
        "    },\n",
        "    \"AUD/GBP\": {\n",
        "        \"max_spread_bps\": 20,\n",
        "        \"pip_size\": 0.0001,\n",
        "        \"min_size\": 5_000_000,\n",
        "        \"max_size\": 20_000_000\n",
        "    },\n",
        "    \"USD/JPY\": {\n",
        "        \"max_spread_bps\": 40,\n",
        "        \"pip_size\": 0.01,\n",
        "        \"min_size\": 5_000_000,\n",
        "        \"max_size\": 20_000_000\n",
        "    },\n",
        "    \"EUR/USD\": {\n",
        "        \"max_spread_bps\": 20,\n",
        "        \"pip_size\": 0.0001,\n",
        "        \"min_size\": 5_000_000,\n",
        "        \"max_size\": 20_000_000\n",
        "    }\n",
        "}\n",
        "\n",
        "#Long, Neutral, Short\n",
        "\n",
        "POSITIONAL_BIAS = {\n",
        "    \"AUD/USD\": \"long\",\n",
        "    \"AUD/EUR\": \"neutral\",\n",
        "    \"USD/JPY\": \"neutral\",\n",
        "    \"USD/EUR\": \"neutral\"\n",
        "}\n",
        "\n",
        "# 'super_aggressive', 'ultra_aggressive', 'aggressive', 'neutral', 'defensive'\n",
        "MAKER_STYLE = \"defensive\"\n",
        "\n"
      ]
    },
    {
      "cell_type": "markdown",
      "metadata": {
        "id": "abQdMBCl44fe"
      },
      "source": [
        "# **Market maker: Hub (quote generation)**"
      ]
    },
    {
      "cell_type": "code",
      "execution_count": 9,
      "metadata": {
        "id": "Gmeo9AGB5DL1"
      },
      "outputs": [],
      "source": [
        "def generate_maker_quote(pair: str, bid: float, ask: float) -> dict:\n",
        "    params = TRADE_PARAMS.get(pair)\n",
        "    if not params:\n",
        "        raise ValueError(f\"No trading params defined for {pair}.\")\n",
        "\n",
        "    pip = params[\"pip_size\"]\n",
        "    max_spread_decimal = params[\"max_spread_bps\"] * 0.0001  # bps → decimal\n",
        "\n",
        "    # Adjust style\n",
        "    if MAKER_STYLE == \"super_aggressive\":\n",
        "        style_multiplier = 0.25\n",
        "    elif MAKER_STYLE == \"ultra_aggressive\":\n",
        "        style_multiplier = 0.4\n",
        "    elif MAKER_STYLE == \"aggressive\":\n",
        "        style_multiplier = 0.5\n",
        "    elif MAKER_STYLE == \"defensive\":\n",
        "        style_multiplier = 1.5\n",
        "    else:\n",
        "        style_multiplier = 1.0\n",
        "\n",
        "    final_spread = max_spread_decimal * style_multiplier\n",
        "    half_spread = final_spread / 2\n",
        "    mid_price = (bid + ask) / 2\n",
        "    bias = POSITIONAL_BIAS.get(pair, \"neutral\")\n",
        "\n",
        "    # Quote construction\n",
        "    if bias == \"long\":\n",
        "        maker_bid = mid_price - half_spread * 0.8\n",
        "        maker_ask = mid_price + half_spread * 1.2\n",
        "    elif bias == \"short\":\n",
        "        maker_bid = mid_price - half_spread * 1.2\n",
        "        maker_ask = mid_price + half_spread * 0.8\n",
        "    else:\n",
        "        maker_bid = mid_price - half_spread\n",
        "        maker_ask = mid_price + half_spread\n",
        "\n",
        "    # Ensure spread not exceeded\n",
        "    spread_check = maker_ask - maker_bid\n",
        "    if spread_check > max_spread_decimal:\n",
        "        # Clamp ask to stay within max spread\n",
        "        maker_ask = maker_bid + max_spread_decimal\n",
        "\n",
        "    return {\n",
        "        \"Pair\": pair,\n",
        "        \"Market Bid\": round(bid, 6),\n",
        "        \"Market Ask\": round(ask, 6),\n",
        "        \"Maker Bid\": round(maker_bid, 6),\n",
        "        \"Maker Ask\": round(maker_ask, 6),\n",
        "        \"Spread (bps)\": round((maker_ask - maker_bid) / pip * 0.01, 2),\n",
        "        \"Max Size\": params[\"max_size\"],\n",
        "        \"Min Size\": params[\"min_size\"]\n",
        "    }\n"
      ]
    },
    {
      "cell_type": "code",
      "execution_count": 12,
      "metadata": {
        "id": "eI1eMgZt5Dig"
      },
      "outputs": [],
      "source": [
        "def run_maker_quotes(pairs: List[str]) -> pd.DataFrame:\n",
        "    synthetic_pairs = {\n",
        "        \"AUD/EUR\": (\"AUD/USD\", \"EUR/USD\"),\n",
        "        \"USD/EUR\": (\"USD/JPY\", \"EUR/JPY\")\n",
        "    }\n",
        "\n",
        "    api_pairs = set()\n",
        "    for p in pairs:\n",
        "        if p in synthetic_pairs:\n",
        "            num, denom = synthetic_pairs[p]\n",
        "            api_pairs.add(num.replace(\"/\", \"_\"))\n",
        "            api_pairs.add(denom.replace(\"/\", \"_\"))\n",
        "        else:\n",
        "            api_pairs.add(p.replace(\"/\", \"_\"))\n",
        "\n",
        "    df_quotes = get_oanda_bid_ask(list(api_pairs))\n",
        "    if df_quotes.empty or \"Pair\" not in df_quotes.columns:\n",
        "        print(\"Error: No valid quote data returned from OANDA.\")\n",
        "        return pd.DataFrame()\n",
        "\n",
        "    for sp, (num, denom) in synthetic_pairs.items():\n",
        "        if sp in pairs:\n",
        "            df_quotes = compute_cross_rate(df_quotes, num.replace(\"_\", \"/\"), denom.replace(\"_\", \"/\"), sp)\n",
        "\n",
        "    quote_results = []\n",
        "    for pair in pairs:\n",
        "        row = df_quotes[df_quotes[\"Pair\"] == pair]\n",
        "        if not row.empty:\n",
        "            result = generate_maker_quote(pair, row[\"Bid\"].values[0], row[\"Ask\"].values[0])\n",
        "            quote_results.append(result)\n",
        "\n",
        "    return pd.DataFrame(quote_results)\n"
      ]
    },
    {
      "cell_type": "code",
      "execution_count": 13,
      "metadata": {
        "id": "iEvyiSMY5HiX"
      },
      "outputs": [],
      "source": [
        "def print_subsection(pair_code, subsection_label):\n",
        "    print(f\"\\n--- Subsection 7.{subsection_label}: {pair_code} ---\")\n",
        "    df = run_maker_quotes([pair_code])\n",
        "    if not df.empty:\n",
        "        print(\"[Maker Quote]\")\n",
        "        print(df[[\"Pair\", \"Maker Bid\", \"Maker Ask\"]].to_string(index=False))\n",
        "        print(\"\\n[Trade Parameters]\")\n",
        "        print(df[[\"Max Size\", \"Min Size\"]].to_string(index=False))\n",
        "        print(\"\\n[Market Quote]\")\n",
        "        print(df[[\"Market Bid\", \"Market Ask\"]].to_string(index=False))\n"
      ]
    },
    {
      "cell_type": "markdown",
      "metadata": {
        "id": "Cb-JwFwN9eKO"
      },
      "source": [
        "## **Quotation style**"
      ]
    },
    {
      "cell_type": "markdown",
      "metadata": {
        "id": "7lORxhZp99CE"
      },
      "source": [
        "    Options: 'super_aggressive', 'ultra_aggressive', 'aggressive', 'neutral', 'defensive'"
      ]
    },
    {
      "cell_type": "code",
      "execution_count": 14,
      "metadata": {
        "id": "CRFEfUgA9irB"
      },
      "outputs": [],
      "source": [
        "MAKER_STYLE = \"aggressive\""
      ]
    },
    {
      "cell_type": "markdown",
      "metadata": {
        "id": "TbRzr8xP6WFs"
      },
      "source": [
        "## **AUD/USD**"
      ]
    },
    {
      "cell_type": "code",
      "execution_count": 15,
      "metadata": {
        "colab": {
          "base_uri": "https://localhost:8080/"
        },
        "id": "xGhA1CIe5jnq",
        "outputId": "0922f5ca-fff3-46ec-a829-529f92fd2c2e"
      },
      "outputs": [
        {
          "output_type": "stream",
          "name": "stdout",
          "text": [
            "\n",
            "--- Subsection 7.A: AUD/USD ---\n",
            "[Maker Quote]\n",
            "   Pair  Maker Bid  Maker Ask\n",
            "AUD/USD    0.65405    0.65505\n",
            "\n",
            "[Trade Parameters]\n",
            " Max Size  Min Size\n",
            " 20000000   5000000\n",
            "\n",
            "[Market Quote]\n",
            " Market Bid  Market Ask\n",
            "    0.65441     0.65449\n"
          ]
        }
      ],
      "source": [
        "print_subsection(\"AUD/USD\", \"A\")"
      ]
    },
    {
      "cell_type": "markdown",
      "metadata": {
        "id": "dUFh_yk77FXQ"
      },
      "source": [
        "## **USD/JPY**"
      ]
    },
    {
      "cell_type": "code",
      "execution_count": 16,
      "metadata": {
        "colab": {
          "base_uri": "https://localhost:8080/"
        },
        "id": "q8vz94xh6Ba3",
        "outputId": "25c893f3-1d38-42ca-a4e1-3e21baedcefd"
      },
      "outputs": [
        {
          "output_type": "stream",
          "name": "stdout",
          "text": [
            "\n",
            "--- Subsection 7.B: USD/JPY ---\n",
            "[Maker Quote]\n",
            "   Pair  Maker Bid  Maker Ask\n",
            "USD/JPY    144.907    144.909\n",
            "\n",
            "[Trade Parameters]\n",
            " Max Size  Min Size\n",
            " 20000000   5000000\n",
            "\n",
            "[Market Quote]\n",
            " Market Bid  Market Ask\n",
            "    144.902     144.914\n"
          ]
        }
      ],
      "source": [
        "print_subsection(\"USD/JPY\", \"B\")"
      ]
    },
    {
      "cell_type": "markdown",
      "metadata": {
        "id": "kIzlVsqj7SkC"
      },
      "source": [
        "## **AUD/EUR**"
      ]
    },
    {
      "cell_type": "code",
      "execution_count": 17,
      "metadata": {
        "colab": {
          "base_uri": "https://localhost:8080/"
        },
        "id": "9hyKJlRK7KIh",
        "outputId": "c88d4bd9-6c64-4a4c-fd9b-7e1cbb6859b4"
      },
      "outputs": [
        {
          "output_type": "stream",
          "name": "stdout",
          "text": [
            "\n",
            "--- Subsection 7.C: AUD/EUR ---\n",
            "[Maker Quote]\n",
            "   Pair  Maker Bid  Maker Ask\n",
            "AUD/EUR    0.55721    0.55821\n",
            "\n",
            "[Trade Parameters]\n",
            " Max Size  Min Size\n",
            " 20000000   5000000\n",
            "\n",
            "[Market Quote]\n",
            " Market Bid  Market Ask\n",
            "   0.557659    0.557762\n"
          ]
        }
      ],
      "source": [
        "print_subsection(\"AUD/EUR\", \"C\")"
      ]
    },
    {
      "cell_type": "markdown",
      "metadata": {
        "id": "-PdsQTEu7Pbx"
      },
      "source": [
        "## **EUR/USD**"
      ]
    },
    {
      "cell_type": "code",
      "execution_count": 18,
      "metadata": {
        "colab": {
          "base_uri": "https://localhost:8080/"
        },
        "id": "ivOKbxl07MEW",
        "outputId": "6a746aa7-f353-43a7-9355-520e34a89f95"
      },
      "outputs": [
        {
          "output_type": "stream",
          "name": "stdout",
          "text": [
            "\n",
            "--- Subsection 7.D: EUR/USD ---\n",
            "[Maker Quote]\n",
            "   Pair  Maker Bid  Maker Ask\n",
            "EUR/USD   1.172945   1.173945\n",
            "\n",
            "[Trade Parameters]\n",
            " Max Size  Min Size\n",
            " 20000000   5000000\n",
            "\n",
            "[Market Quote]\n",
            " Market Bid  Market Ask\n",
            "    1.17338     1.17351\n"
          ]
        }
      ],
      "source": [
        "print_subsection(\"EUR/USD\", \"D\")"
      ]
    },
    {
      "cell_type": "markdown",
      "metadata": {
        "id": "9BDkyPbaBFSY"
      },
      "source": [
        "# **Price taker: Hub**"
      ]
    },
    {
      "cell_type": "code",
      "execution_count": 19,
      "metadata": {
        "id": "kvyIOOtPEVz6"
      },
      "outputs": [],
      "source": [
        "def get_fx_quotes(pairs: Union[str, List[str]]) -> pd.DataFrame:\n",
        "    # Convert and clean input\n",
        "    pairs = [pairs] if isinstance(pairs, str) else pairs\n",
        "    synthetic_map = {\n",
        "        \"AUD/EUR\": (\"AUD/USD\", \"EUR/USD\"),\n",
        "        \"USD/EUR\": (\"USD/JPY\", \"EUR/JPY\")\n",
        "    }\n",
        "\n",
        "    api_pairs = set()\n",
        "    for p in pairs:\n",
        "        if p in synthetic_map:\n",
        "            num, denom = synthetic_map[p]\n",
        "            api_pairs.update({num.replace(\"/\", \"_\"), denom.replace(\"/\", \"_\")})\n",
        "        else:\n",
        "            api_pairs.add(p.replace(\"/\", \"_\"))\n",
        "\n",
        "    df = get_oanda_bid_ask(list(api_pairs))\n",
        "    for p in pairs:\n",
        "        if p in synthetic_map:\n",
        "            df = compute_cross_rate(df, synthetic_map[p][0], synthetic_map[p][1], p)\n",
        "\n",
        "    return df[df[\"Pair\"].isin(pairs)].reset_index(drop=True)\n",
        "\n",
        "\n",
        "def get_all_fx_quotes() -> pd.DataFrame:\n",
        "    full_list = [\"AUD/USD\", \"EUR/USD\", \"USD/JPY\", \"GBP/USD\", \"EUR/JPY\", \"AUD/EUR\", \"USD/EUR\"]\n",
        "    return get_fx_quotes(full_list)"
      ]
    },
    {
      "cell_type": "markdown",
      "metadata": {
        "id": "lJpsIAJxFA0Q"
      },
      "source": [
        "## **All market quotes**"
      ]
    },
    {
      "cell_type": "code",
      "execution_count": 20,
      "metadata": {
        "colab": {
          "base_uri": "https://localhost:8080/"
        },
        "id": "YTSVyDi5E8hA",
        "outputId": "57a01087-9581-49c2-a941-66d706e363c9"
      },
      "outputs": [
        {
          "output_type": "stream",
          "name": "stdout",
          "text": [
            "      Pair         Bid         Ask\n",
            "0  GBP/USD    1.359610    1.359780\n",
            "1  EUR/JPY  170.023000  170.061000\n",
            "2  AUD/USD    0.654420    0.654500\n",
            "3  EUR/USD    1.173290    1.173400\n",
            "4  USD/JPY  144.914000  144.928000\n",
            "5  AUD/EUR    0.557713    0.557833\n",
            "6  USD/EUR    0.852130    0.852402\n"
          ]
        }
      ],
      "source": [
        "# 🔹 Tutte le principali + cross sintetici\n",
        "print(get_all_fx_quotes())"
      ]
    },
    {
      "cell_type": "markdown",
      "metadata": {
        "id": "w2dGS6KuFlGD"
      },
      "source": [
        "## **AUD/USD**"
      ]
    },
    {
      "cell_type": "code",
      "execution_count": 21,
      "metadata": {
        "colab": {
          "base_uri": "https://localhost:8080/"
        },
        "id": "CPEgUHxWFlGE",
        "outputId": "50642761-8298-4bd7-d6b2-17e0f18347c9"
      },
      "outputs": [
        {
          "output_type": "stream",
          "name": "stdout",
          "text": [
            "      Pair      Bid      Ask\n",
            "0  AUD/USD  0.65446  0.65453\n"
          ]
        }
      ],
      "source": [
        "print(get_fx_quotes(\"AUD/USD\"))"
      ]
    },
    {
      "cell_type": "markdown",
      "metadata": {
        "id": "epQrPzWCFlGE"
      },
      "source": [
        "## **USD/JPY**"
      ]
    },
    {
      "cell_type": "code",
      "execution_count": 22,
      "metadata": {
        "colab": {
          "base_uri": "https://localhost:8080/"
        },
        "id": "9YpzF1nSFlGE",
        "outputId": "bd068994-b226-4d4a-e825-b973a60ddd42"
      },
      "outputs": [
        {
          "output_type": "stream",
          "name": "stdout",
          "text": [
            "      Pair      Bid      Ask\n",
            "0  USD/JPY  144.946  144.959\n"
          ]
        }
      ],
      "source": [
        "print(get_fx_quotes(\"USD/JPY\"))"
      ]
    },
    {
      "cell_type": "markdown",
      "metadata": {
        "id": "Au40YZReFlGF"
      },
      "source": [
        "## **AUD/EUR**"
      ]
    },
    {
      "cell_type": "code",
      "execution_count": 23,
      "metadata": {
        "colab": {
          "base_uri": "https://localhost:8080/"
        },
        "id": "k3_WaC_KFlGF",
        "outputId": "40bdbab9-6a74-4f42-876a-c07ca74cab4a"
      },
      "outputs": [
        {
          "output_type": "stream",
          "name": "stdout",
          "text": [
            "      Pair       Bid       Ask\n",
            "0  AUD/EUR  0.557711  0.557831\n"
          ]
        }
      ],
      "source": [
        "print(get_fx_quotes(\"AUD/EUR\"))"
      ]
    },
    {
      "cell_type": "markdown",
      "metadata": {
        "id": "ds3XZ5JZFlGF"
      },
      "source": [
        "## **EUR/USD**"
      ]
    },
    {
      "cell_type": "code",
      "execution_count": 24,
      "metadata": {
        "colab": {
          "base_uri": "https://localhost:8080/"
        },
        "id": "OlF72o_OFlGF",
        "outputId": "413db87b-e16c-4f9f-d1b5-6112a43446b3"
      },
      "outputs": [
        {
          "output_type": "stream",
          "name": "stdout",
          "text": [
            "      Pair      Bid      Ask\n",
            "0  EUR/USD  1.17325  1.17336\n"
          ]
        }
      ],
      "source": [
        "print(get_fx_quotes(\"EUR/USD\"))"
      ]
    },
    {
      "cell_type": "markdown",
      "metadata": {
        "id": "UM-uHqibbLzR"
      },
      "source": [
        "# Arbitrage"
      ]
    },
    {
      "cell_type": "code",
      "execution_count": 26,
      "metadata": {
        "colab": {
          "base_uri": "https://localhost:8080/"
        },
        "id": "jM-SNPeqbN58",
        "outputId": "e2e10115-46b8-491e-9094-1801cd84cf15"
      },
      "outputs": [
        {
          "output_type": "stream",
          "name": "stdout",
          "text": [
            "🔢 Enter bid/ask for 3 FX pairs (AUD/USD, EUR/USD, AUD/EUR):\n",
            "   ➤ AUD/USD Bid: 0.65405\n",
            "   ➤ AUD/USD Ask: 0.65505\n",
            "   ➤ EUR/USD Bid: 1.1730\n",
            "   ➤ EUR/USD Ask: 1.1740\n",
            "   ➤ AUD/EUR Bid: 0.56\n",
            "   ➤ AUD/EUR Ask: 0.562\n",
            "\n",
            "Implied AUD/EUR: 0.55711 / 0.55844\n",
            "Direct AUD/EUR: 0.56000 / 0.56200\n",
            "\n",
            "Arbitrage Opportunity Detected → YOURS\n",
            "Direction: SELL to market (the direct AUD/EUR rate)\n",
            "Trade 1: YOURS (Bid) (EUR/USD) → 1.17300 | SELL 11,168,797.95 EUR → RECEIVE 13,101,000.00 USD\n",
            "Trade 2: MINE (Ask) (AUD/USD) → 0.65505 | BUY 20,000,000 AUD → PAY 13,101,000.00 USD\n",
            "Trade 3: YOURS (Bid) (AUD/EUR) → 0.56000 | SELL 20,000,000 AUD → RECEIVE 11,200,000.00 EUR\n",
            "Profit: 15.6 pips | ≈ 31,202.05 EUR\n"
          ]
        }
      ],
      "source": [
        "import pandas as pd\n",
        "\n",
        "# --- CONFIGURATION ---\n",
        "TRADE_PARAMS = {\n",
        "    \"AUD/USD\": {\n",
        "        \"base_currency\": \"AUD\",\n",
        "        \"max_spread_bps\": 20,\n",
        "        \"pip_size\": 0.0001,\n",
        "        \"min_size\": 5_000_000,\n",
        "        \"max_size\": 20_000_000\n",
        "    },\n",
        "    \"AUD/EUR\": {\n",
        "        \"base_currency\": \"AUD\",\n",
        "        \"max_spread_bps\": 20,\n",
        "        \"pip_size\": 0.0001,\n",
        "        \"min_size\": 5_000_000,\n",
        "        \"max_size\": 20_000_000\n",
        "    },\n",
        "    \"EUR/USD\": {\n",
        "        \"base_currency\": \"EUR\", # The constraint size applies to EUR\n",
        "        \"pip_size\": 0.0001,\n",
        "        \"min_size\": 5_000_000,\n",
        "        \"max_size\": 20_000_000\n",
        "    }\n",
        "}\n",
        "\n",
        "\n",
        "# --- FUNCTIONS ---\n",
        "\n",
        "def manual_quote_input():\n",
        "    \"\"\"Asks the user for quotes for the required currency pairs.\"\"\"\n",
        "    # MODIFIED: Asking for EUR/USD instead of USD/EUR\n",
        "    print(\"🔢 Enter bid/ask for 3 FX pairs (AUD/USD, EUR/USD, AUD/EUR):\")\n",
        "    pairs = [\"AUD/USD\", \"EUR/USD\", \"AUD/EUR\"]\n",
        "    data = []\n",
        "    for p in pairs:\n",
        "        while True:\n",
        "            try:\n",
        "                bid = float(input(f\"   ➤ {p} Bid: \"))\n",
        "                ask = float(input(f\"   ➤ {p} Ask: \"))\n",
        "                if bid > ask:\n",
        "                    print(\"ERROR: The Bid price cannot be higher than the Ask price. Please try again.\")\n",
        "                    continue\n",
        "                data.append({\"Pair\": p, \"Bid\": bid, \"Ask\": ask})\n",
        "                break\n",
        "            except ValueError:\n",
        "                print(\"ERROR: Please enter a valid number.\")\n",
        "    return pd.DataFrame(data)\n",
        "\n",
        "def compute_implied_cross(df):\n",
        "    \"\"\"\n",
        "    Calculates the implied AUD/EUR cross rate from AUD/USD and EUR/USD.\n",
        "    [LOGIC CHANGED]: With AUD/USD and EUR/USD, the formula is division.\n",
        "    - Implied Bid = Sell AUD for EUR = (Sell AUD for USD) / (Buy EUR with USD) = AUD/USD Bid / EUR/USD Ask\n",
        "    - Implied Ask = Buy AUD with EUR = (Buy AUD with USD) / (Sell EUR for USD) = AUD/USD Ask / EUR/USD Bid\n",
        "    \"\"\"\n",
        "    audusd = df.loc[df[\"Pair\"] == \"AUD/USD\"]\n",
        "    eurusd = df.loc[df[\"Pair\"] == \"EUR/USD\"] # Changed from usdeur\n",
        "\n",
        "    imp_bid = audusd[\"Bid\"].values[0] / eurusd[\"Ask\"].values[0]\n",
        "    imp_ask = audusd[\"Ask\"].values[0] / eurusd[\"Bid\"].values[0]\n",
        "\n",
        "    return round(imp_bid, 5), round(imp_ask, 5)\n",
        "\n",
        "def determine_max_notional(arbitrage_type, rates):\n",
        "    \"\"\"Calculates max tradable notional based on new trade structure.\"\"\"\n",
        "    audusd_params = TRADE_PARAMS[\"AUD/USD\"]\n",
        "    audeur_params = TRADE_PARAMS[\"AUD/EUR\"]\n",
        "    eurusd_params = TRADE_PARAMS[\"EUR/USD\"]\n",
        "\n",
        "    min_from_audusd, max_from_audusd = audusd_params[\"min_size\"], audusd_params[\"max_size\"]\n",
        "    min_from_audeur, max_from_audeur = audeur_params[\"min_size\"], audeur_params[\"max_size\"]\n",
        "    min_eur_traded, max_eur_traded = eurusd_params[\"min_size\"], eurusd_params[\"max_size\"]\n",
        "\n",
        "    if arbitrage_type == 'MINE': # Sell Implied (Sell AUD -> Get USD -> Use USD to Buy EUR)\n",
        "        # Amount of EUR traded = (notional_aud * audusd_bid) / eurusd_ask\n",
        "        # So, notional_aud = (eur_traded * eurusd_ask) / audusd_bid\n",
        "        min_from_eurusd = (min_eur_traded * rates['eurusd_ask']) / rates['audusd_bid']\n",
        "        max_from_eurusd = (max_eur_traded * rates['eurusd_ask']) / rates['audusd_bid']\n",
        "\n",
        "    elif arbitrage_type == 'YOURS': # Buy Implied (Sell EUR -> Get USD -> Use USD to Buy AUD)\n",
        "        # Amount of EUR traded = (notional_aud * audusd_ask) / eurusd_bid\n",
        "        # So, notional_aud = (eur_traded * eurusd_bid) / audusd_ask\n",
        "        min_from_eurusd = (min_eur_traded * rates['eurusd_bid']) / rates['audusd_ask']\n",
        "        max_from_eurusd = (max_eur_traded * rates['eurusd_bid']) / rates['audusd_ask']\n",
        "\n",
        "    final_min_notional = max(min_from_audusd, min_from_audeur, min_from_eurusd)\n",
        "    final_max_notional = min(max_from_audusd, max_from_audeur, max_from_eurusd)\n",
        "\n",
        "    if final_max_notional < final_min_notional:\n",
        "        return None\n",
        "    return final_max_notional\n",
        "\n",
        "def detect_and_execute_arbitrage(df):\n",
        "    \"\"\"Detects and executes arbitrage with the updated EUR/USD logic.\"\"\"\n",
        "    imp_bid, imp_ask = compute_implied_cross(df)\n",
        "    direct = df.loc[df[\"Pair\"] == \"AUD/EUR\"]\n",
        "    avv_bid = direct[\"Bid\"].values[0]\n",
        "    avv_ask = direct[\"Ask\"].values[0]\n",
        "\n",
        "    print(f\"\\nImplied AUD/EUR: {imp_bid:.5f} / {imp_ask:.5f}\")\n",
        "    print(f\"Direct AUD/EUR: {avv_bid:.5f} / {avv_ask:.5f}\\n\")\n",
        "\n",
        "    pip = TRADE_PARAMS[\"AUD/EUR\"][\"pip_size\"]\n",
        "\n",
        "    rates = {\n",
        "        'audusd_bid': df.loc[df['Pair'] == 'AUD/USD', 'Bid'].values[0],\n",
        "        'audusd_ask': df.loc[df['Pair'] == 'AUD/USD', 'Ask'].values[0],\n",
        "        'eurusd_bid': df.loc[df['Pair'] == 'EUR/USD', 'Bid'].values[0], # New\n",
        "        'eurusd_ask': df.loc[df['Pair'] == 'EUR/USD', 'Ask'].values[0], # New\n",
        "        'audeur_bid': avv_bid,\n",
        "        'audeur_ask': avv_ask,\n",
        "    }\n",
        "\n",
        "    if imp_bid > avv_ask:\n",
        "        # Opportunity: Sell implied at high price, Buy direct at low price\n",
        "        notional = determine_max_notional('MINE', rates)\n",
        "        if notional is None:\n",
        "            print(\"Theoretical opportunity exists, but it's not executable due to size constraints.\")\n",
        "            return\n",
        "\n",
        "        profit_pips = round((imp_bid - avv_ask) / pip, 1)\n",
        "        print(\"Arbitrage Opportunity Detected → MINE\")\n",
        "        print(\"Direction: BUY from market (the direct AUD/EUR rate)\")\n",
        "\n",
        "        # Execute new trade legs\n",
        "        usd_received = notional * rates['audusd_bid']\n",
        "        eur_received_synthetic = usd_received / rates['eurusd_ask']\n",
        "        eur_paid_direct = notional * rates['audeur_ask']\n",
        "        profit = eur_received_synthetic - eur_paid_direct\n",
        "\n",
        "        print(f\"📉 Trade 1: YOURS (Bid) (AUD/USD) → {rates['audusd_bid']:.5f} | SELL {notional:,.0f} AUD → RECEIVE {usd_received:,.2f} USD\")\n",
        "        print(f\"📈 Trade 2: MINE (Ask) (EUR/USD) → {rates['eurusd_ask']:.5f} | BUY {eur_received_synthetic:,.2f} EUR → PAY {usd_received:,.2f} USD\")\n",
        "        print(f\"📈 Trade 3: MINE (Ask) (AUD/EUR) → {rates['audeur_ask']:.5f} | BUY {notional:,.0f} AUD → PAY {eur_paid_direct:,.2f} EUR\")\n",
        "        print(f\"💰 Profit: {profit_pips} pips | ≈ {profit:,.2f} EUR\")\n",
        "\n",
        "    elif imp_ask < avv_bid:\n",
        "        # Opportunity: Buy implied at low price, Sell direct at high price\n",
        "        notional = determine_max_notional('YOURS', rates)\n",
        "        if notional is None:\n",
        "            print(\"Theoretical opportunity exists, but it's not executable due to size constraints.\")\n",
        "            return\n",
        "\n",
        "        profit_pips = round((avv_bid - imp_ask) / pip, 1)\n",
        "        print(\"Arbitrage Opportunity Detected → YOURS\")\n",
        "        print(\"Direction: SELL to market (the direct AUD/EUR rate)\")\n",
        "\n",
        "        # Execute new trade legs\n",
        "        usd_needed_for_aud = notional * rates['audusd_ask']\n",
        "        eur_to_sell_for_usd = usd_needed_for_aud / rates['eurusd_bid']\n",
        "        eur_received_direct = notional * rates['audeur_bid']\n",
        "        profit = eur_received_direct - eur_to_sell_for_usd\n",
        "\n",
        "        print(f\"Trade 1: YOURS (Bid) (EUR/USD) → {rates['eurusd_bid']:.5f} | SELL {eur_to_sell_for_usd:,.2f} EUR → RECEIVE {usd_needed_for_aud:,.2f} USD\")\n",
        "        print(f\"Trade 2: MINE (Ask) (AUD/USD) → {rates['audusd_ask']:.5f} | BUY {notional:,.0f} AUD → PAY {usd_needed_for_aud:,.2f} USD\")\n",
        "        print(f\"Trade 3: YOURS (Bid) (AUD/EUR) → {rates['audeur_bid']:.5f} | SELL {notional:,.0f} AUD → RECEIVE {eur_received_direct:,.2f} EUR\")\n",
        "        print(f\"Profit: {profit_pips} pips | ≈ {profit:,.2f} EUR\")\n",
        "    else:\n",
        "        print(\"No Arbitrage Opportunity Detected.\")\n",
        "\n",
        "\n",
        "# === SCRIPT EXECUTION ===\n",
        "quotes_df = manual_quote_input()\n",
        "detect_and_execute_arbitrage(quotes_df)"
      ]
    }
  ],
  "metadata": {
    "colab": {
      "toc_visible": true,
      "provenance": []
    },
    "kernelspec": {
      "display_name": "Python 3",
      "name": "python3"
    },
    "language_info": {
      "name": "python"
    }
  },
  "nbformat": 4,
  "nbformat_minor": 0
}